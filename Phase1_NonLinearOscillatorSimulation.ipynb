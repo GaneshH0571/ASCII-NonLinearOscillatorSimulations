{
  "nbformat": 4,
  "nbformat_minor": 0,
  "metadata": {
    "colab": {
      "provenance": [],
      "collapsed_sections": []
    },
    "kernelspec": {
      "name": "python3",
      "display_name": "Python 3"
    },
    "language_info": {
      "name": "python"
    }
  },
  "cells": [
    {
      "cell_type": "code",
      "execution_count": null,
      "metadata": {
        "id": "XfagyVMvwgGn"
      },
      "outputs": [],
      "source": [
        "import numpy as np\n",
        "from matplotlib import pyplot as plt\n",
        "from scipy.integrate import odeint\n",
        "import pandas as pd"
      ]
    },
    {
      "cell_type": "code",
      "source": [
        "#Constants\n",
        "N = 2\n",
        "mu_m = 0.011\n",
        "mu_s = 0.00016\n",
        "g = 9.81\n",
        "L = 0.22\n",
        "Omega = np.sqrt(g/L)\n",
        "omega = 8.61\n",
        "beta = 0.0005\n",
        "x0 = beta*g/(omega**2)\n",
        "theta0 = 1"
      ],
      "metadata": {
        "id": "6ryH_2zLgwb2"
      },
      "execution_count": null,
      "outputs": []
    },
    {
      "cell_type": "code",
      "source": [
        "def find_freq(y):\n",
        "  av_l = np.average(y)\n",
        "  start = None\n",
        "  stop = None\n",
        "  for i in range(1,len(y)-1):\n",
        "    if (y[i]>av_l and y[i+1]<=av_l) or (y[i]<=av_l and y[i+1]>av_l):\n",
        "      start = i\n",
        "      break\n",
        "  for i in range(start+1,len(y)-1):\n",
        "    if (y[i]>av_l and y[i+1]<=av_l) or (y[i]<=av_l and y[i+1]>av_l):\n",
        "      stop = i \n",
        "      break\n",
        "  if (start ==None or stop == None):\n",
        "    return None\n",
        "  else :\n",
        "    return(1/(t[stop]-t[start]))"
      ],
      "metadata": {
        "id": "W2K0qpoWMlBT"
      },
      "execution_count": null,
      "outputs": []
    },
    {
      "cell_type": "code",
      "source": [
        "def find_peaks(y):\n",
        "  av_l = np.average(y)\n",
        "  peaks = []\n",
        "  for i in range(1,len(y)-1):\n",
        "    if(y[i]>=y[i-1] and y[i]>=y[i+1]):\n",
        "      peaks.append(y[i])\n",
        "  peaks = np.array(peaks)\n",
        "  peaks = peaks - np.ones(len(peaks))*av_l\n",
        "  return peaks"
      ],
      "metadata": {
        "id": "NhwxN9dWkFzE"
      },
      "execution_count": null,
      "outputs": []
    },
    {
      "cell_type": "code",
      "source": [
        "def Amplitude(y):\n",
        "   peaks = find_peaks(y)\n",
        "   return np.average(peaks[-10:])"
      ],
      "metadata": {
        "id": "Dv4LClvnlsLs"
      },
      "execution_count": null,
      "outputs": []
    },
    {
      "cell_type": "code",
      "source": [
        "phis = np.zeros(N)\n",
        "phisdot = np.zeros(N)\n",
        "def odes(z, t):\n",
        "    PHI = z[0]\n",
        "    PHI_dot = z[1]\n",
        "    for j,i in enumerate(range(0,2*N,2)):\n",
        "      phis[j] = z[i+2]\n",
        "      phisdot[j] = z[i+3]\n",
        "    # D = (1/omega)*((phis/theta0)**2 - 1)\n",
        "    D = ((phis/theta0)**2 - 1)\n",
        "    # 1 equation\n",
        "    dPHIdt = PHI_dot\n",
        "    # 1 equation\n",
        "    # dPHIdotdt = -1*(((Omega**2)*PHI)+(mu_s*PHI_dot)-(x0/((omega**2)*L))*np.sum((np.sin(phis)*phisdot**2) + np.cos(phis)*(np.sin(phis) + mu_m*phisdot*D)))/(1-((x0/(L*Omega**2))*np.sum((np.cos(phis))**2))) \n",
        "    dPHIdotdt = ((-Omega**2/omega**2)*PHI-mu_s*PHI_dot+np.sum( np.sin(phis)*phisdot**2 + np.cos(phis)*(np.sin(phis) + mu_m*phisdot*D)))/(1-beta*np.sum(np.cos(phis)**2))\n",
        "    # N equations\n",
        "    dphisdt = phisdot.copy()\n",
        "    # N equations\n",
        "    # dphisdotdt = -1*(np.sin(phis) + mu_m*phis*D +((omega/Omega)**2)*np.cos(phis)*dPHIdotdt)\n",
        "    dphisdotdt = -np.sin(phis) - mu_m*phisdot*D - beta*np.cos(phis)*dPHIdotdt\n",
        "    final = [dPHIdt,dPHIdotdt]\n",
        "    for i in range(len(dphisdotdt)):\n",
        "      final.append(dphisdt[i])\n",
        "      final.append(dphisdotdt[i])\n",
        "    final = np.array(final)\n",
        "    return final"
      ],
      "metadata": {
        "id": "wWFIwSVfwxyt"
      },
      "execution_count": null,
      "outputs": []
    },
    {
      "cell_type": "code",
      "source": [
        "# z0 = [0,0]\n",
        "# for i in range(N):\n",
        "#   z0.append(-1*2*theta0)\n",
        "#   z0.append(0)\n",
        "z0 = [0,0,2,2,0.5,0.5]\n",
        "t = np.linspace(0 ,1000, 10000)\n",
        "z0 = odeint(odes, z0, t)\n",
        "\n",
        "PHI = z0[:,0]\n",
        "PHI_dot = z0[:,1]\n",
        "\n",
        "phis = phis.tolist()\n",
        "phisdot = phisdot.tolist()\n",
        "\n",
        "for i in range(N):\n",
        "    phis[i] = z0[:,2*i+2]\n",
        "    phisdot[i] = z0[:,2*i+3]"
      ],
      "metadata": {
        "id": "71wJLxzFXLtd"
      },
      "execution_count": null,
      "outputs": []
    },
    {
      "cell_type": "code",
      "source": [
        "last = 1000\n",
        "\n",
        "plt.plot(PHI[-last:],PHI_dot[-last:])\n",
        "plt.xlabel('PHI')\n",
        "plt.ylabel('PHI dot')\n",
        "plt.title('Swing Phase Space')\n",
        "plt.grid()\n",
        "plt.show()"
      ],
      "metadata": {
        "id": "epmd7NF_aOxd",
        "colab": {
          "base_uri": "https://localhost:8080/",
          "height": 295
        },
        "outputId": "dfb20d70-3cda-4cc0-998d-a993650f24c1"
      },
      "execution_count": null,
      "outputs": [
        {
          "output_type": "display_data",
          "data": {
            "text/plain": [
              "<Figure size 432x288 with 1 Axes>"
            ],
            "image/png": "[encoded data removed]"
          },
          "metadata": {
            "needs_background": "light"
          }
        }
      ]
    },
    {
      "cell_type": "code",
      "source": [
        "last2 = 1000\n",
        "\n",
        "for i in range(N):\n",
        "  plt.plot(phis[i][-last2:],phisdot[i][-last2:])\n",
        "plt.xlabel('phi')\n",
        "plt.ylabel('phi dot')\n",
        "plt.title('Metronome Phase Space')\n",
        "# plt.xlim(-0.2,0.2)\n",
        "# plt.ylim(-0.15,0.15)\n",
        "plt.grid()\n",
        "plt.show()"
      ],
      "metadata": {
        "colab": {
          "base_uri": "https://localhost:8080/",
          "height": 295
        },
        "id": "jkolOjye5gye",
        "outputId": "0ffba7a6-1f85-4ccd-83ac-9c4781c35c9c"
      },
      "execution_count": null,
      "outputs": [
        {
          "output_type": "display_data",
          "data": {
            "text/plain": [
              "<Figure size 432x288 with 1 Axes>"
            ],
            "image/png": "[encoded data removed]"
          },
          "metadata": {
            "needs_background": "light"
          }
        }
      ]
    },
    {
      "cell_type": "code",
      "source": [
        "for i in range(N):\n",
        "  plt.plot(t,phis[i])\n",
        "plt.xlim(0,100)\n",
        "plt.grid()\n",
        "plt.show()"
      ],
      "metadata": {
        "colab": {
          "base_uri": "https://localhost:8080/",
          "height": 265
        },
        "id": "16EIBe6jB9-y",
        "outputId": "7ba43c58-7321-40e1-d1f9-2207679b9df3"
      },
      "execution_count": null,
      "outputs": [
        {
          "output_type": "display_data",
          "data": {
            "text/plain": [
              "<Figure size 432x288 with 1 Axes>"
            ],
            "image/png": "[encoded data removed]"
          },
          "metadata": {
            "needs_background": "light"
          }
        }
      ]
    },
    {
      "cell_type": "code",
      "source": [
        "data = []\n",
        "for i in range(N):\n",
        "  data.append({'Frequency of the Metronome':find_freq(phis[i]),'Amplitude of the Metronome':Amplitude(phis[i])})\n",
        "df = pd.DataFrame(data, index=[i+1 for i in range(N)])\n",
        "df"
      ],
      "metadata": {
        "id": "SvvFGlBFCFum",
        "colab": {
          "base_uri": "https://localhost:8080/",
          "height": 112
        },
        "outputId": "4f2c5579-2a05-4fed-d0eb-73de803cc830"
      },
      "execution_count": null,
      "outputs": [
        {
          "output_type": "execute_result",
          "data": {
            "text/plain": [
              "   Frequency of the Metronome  Amplitude of the Metronome\n",
              "1                    0.263132                    0.055392\n",
              "2                    0.303000                    1.877504"
            ],
            "text/html": [
              "\n",
              "  <div id=\"df-a52952eb-bcbc-46bc-a69d-b5ec8c8925df\">\n",
              "    <div class=\"colab-df-container\">\n",
              "      <div>\n",
              "<style scoped>\n",
              "    .dataframe tbody tr th:only-of-type {\n",
              "        vertical-align: middle;\n",
              "    }\n",
              "\n",
              "    .dataframe tbody tr th {\n",
              "        vertical-align: top;\n",
              "    }\n",
              "\n",
              "    .dataframe thead th {\n",
              "        text-align: right;\n",
              "    }\n",
              "</style>\n",
              "<table border=\"1\" class=\"dataframe\">\n",
              "  <thead>\n",
              "    <tr style=\"text-align: right;\">\n",
              "      <th></th>\n",
              "      <th>Frequency of the Metronome</th>\n",
              "      <th>Amplitude of the Metronome</th>\n",
              "    </tr>\n",
              "  </thead>\n",
              "  <tbody>\n",
              "    <tr>\n",
              "      <th>1</th>\n",
              "      <td>0.263132</td>\n",
              "      <td>0.055392</td>\n",
              "    </tr>\n",
              "    <tr>\n",
              "      <th>2</th>\n",
              "      <td>0.303000</td>\n",
              "      <td>1.877504</td>\n",
              "    </tr>\n",
              "  </tbody>\n",
              "</table>\n",
              "</div>\n",
              "      <button class=\"colab-df-convert\" onclick=\"convertToInteractive('df-a52952eb-bcbc-46bc-a69d-b5ec8c8925df')\"\n",
              "              title=\"Convert this dataframe to an interactive table.\"\n",
              "              style=\"display:none;\">\n",
              "        \n",
              "  <svg xmlns=\"http://www.w3.org/2000/svg\" height=\"24px\"viewBox=\"0 0 24 24\"\n",
              "       width=\"24px\">\n",
              "    <path d=\"M0 0h24v24H0V0z\" fill=\"none\"/>\n",
              "    <path d=\"M18.56 5.44l.94 2.06.94-2.06 2.06-.94-2.06-.94-.94-2.06-.94 2.06-2.06.94zm-11 1L8.5 8.5l.94-2.06 2.06-.94-2.06-.94L8.5 2.5l-.94 2.06-2.06.94zm10 10l.94 2.06.94-2.06 2.06-.94-2.06-.94-.94-2.06-.94 2.06-2.06.94z\"/><path d=\"M17.41 7.96l-1.37-1.37c-.4-.4-.92-.59-1.43-.59-.52 0-1.04.2-1.43.59L10.3 9.45l-7.72 7.72c-.78.78-.78 2.05 0 2.83L4 21.41c.39.39.9.59 1.41.59.51 0 1.02-.2 1.41-.59l7.78-7.78 2.81-2.81c.8-.78.8-2.07 0-2.86zM5.41 20L4 18.59l7.72-7.72 1.47 1.35L5.41 20z\"/>\n",
              "  </svg>\n",
              "      </button>\n",
              "      \n",
              "  <style>\n",
              "    .colab-df-container {\n",
              "      display:flex;\n",
              "      flex-wrap:wrap;\n",
              "      gap: 12px;\n",
              "    }\n",
              "\n",
              "    .colab-df-convert {\n",
              "      background-color: #E8F0FE;\n",
              "      border: none;\n",
              "      border-radius: 50%;\n",
              "      cursor: pointer;\n",
              "      display: none;\n",
              "      fill: #1967D2;\n",
              "      height: 32px;\n",
              "      padding: 0 0 0 0;\n",
              "      width: 32px;\n",
              "    }\n",
              "\n",
              "    .colab-df-convert:hover {\n",
              "      background-color: #E2EBFA;\n",
              "      box-shadow: 0px 1px 2px rgba(60, 64, 67, 0.3), 0px 1px 3px 1px rgba(60, 64, 67, 0.15);\n",
              "      fill: #174EA6;\n",
              "    }\n",
              "\n",
              "    [theme=dark] .colab-df-convert {\n",
              "      background-color: #3B4455;\n",
              "      fill: #D2E3FC;\n",
              "    }\n",
              "\n",
              "    [theme=dark] .colab-df-convert:hover {\n",
              "      background-color: #434B5C;\n",
              "      box-shadow: 0px 1px 3px 1px rgba(0, 0, 0, 0.15);\n",
              "      filter: drop-shadow(0px 1px 2px rgba(0, 0, 0, 0.3));\n",
              "      fill: #FFFFFF;\n",
              "    }\n",
              "  </style>\n",
              "\n",
              "      <script>\n",
              "        const buttonEl =\n",
              "          document.querySelector('#df-a52952eb-bcbc-46bc-a69d-b5ec8c8925df button.colab-df-convert');\n",
              "        buttonEl.style.display =\n",
              "          google.colab.kernel.accessAllowed ? 'block' : 'none';\n",
              "\n",
              "        async function convertToInteractive(key) {\n",
              "          const element = document.querySelector('#df-a52952eb-bcbc-46bc-a69d-b5ec8c8925df');\n",
              "          const dataTable =\n",
              "            await google.colab.kernel.invokeFunction('convertToInteractive',\n",
              "                                                     [key], {});\n",
              "          if (!dataTable) return;\n",
              "\n",
              "          const docLinkHtml = 'Like what you see? Visit the ' +\n",
              "            '<a target=\"_blank\" href=https://colab.research.google.com/notebooks/data_table.ipynb>data table notebook</a>'\n",
              "            + ' to learn more about interactive tables.';\n",
              "          element.innerHTML = '';\n",
              "          dataTable['output_type'] = 'display_data';\n",
              "          await google.colab.output.renderOutput(dataTable, element);\n",
              "          const docLink = document.createElement('div');\n",
              "          docLink.innerHTML = docLinkHtml;\n",
              "          element.appendChild(docLink);\n",
              "        }\n",
              "      </script>\n",
              "    </div>\n",
              "  </div>\n",
              "  "
            ]
          },
          "metadata": {},
          "execution_count": 280
        }
      ]
    },
    {
      "cell_type": "code",
      "source": [
        "(-11 - np.sqrt(121 + 20*852))/10"
      ],
      "metadata": {
        "colab": {
          "base_uri": "https://localhost:8080/"
        },
        "id": "o314QYxBb9Hu",
        "outputId": "58b18690-8aec-4eae-b8b9-46e19a239edb"
      },
      "execution_count": null,
      "outputs": [
        {
          "output_type": "execute_result",
          "data": {
            "text/plain": [
              "-14.2"
            ]
          },
          "metadata": {},
          "execution_count": 282
        }
      ]
    },
    {
      "cell_type": "code",
      "source": [],
      "metadata": {
        "id": "BF29VqtOcGLg"
      },
      "execution_count": null,
      "outputs": []
    }
  ]
}